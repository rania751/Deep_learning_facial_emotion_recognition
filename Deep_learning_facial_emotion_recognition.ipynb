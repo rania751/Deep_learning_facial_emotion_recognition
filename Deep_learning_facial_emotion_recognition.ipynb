{
  "cells": [
    {
      "cell_type": "code",
      "execution_count": null,
      "metadata": {
        "execution": {
          "iopub.execute_input": "2021-03-11T20:09:25.021105Z",
          "iopub.status.busy": "2021-03-11T20:09:25.020465Z",
          "iopub.status.idle": "2021-03-11T20:09:35.553427Z",
          "shell.execute_reply": "2021-03-11T20:09:35.552472Z"
        },
        "papermill": {
          "duration": 10.551047,
          "end_time": "2021-03-11T20:09:35.553571",
          "exception": false,
          "start_time": "2021-03-11T20:09:25.002524",
          "status": "completed"
        },
        "tags": [],
        "id": "-LhVFpUqm6s3"
      },
      "outputs": [],
      "source": [
        "import numpy as np\n",
        "import pandas as pd\n",
        "import matplotlib.pyplot as plt\n",
        "import keras\n",
        "import cv2\n",
        "import numpy as np\n",
        "import itertools\n",
        "import os\n",
        "import seaborn as sns\n",
        "from keras.models import Sequential\n",
        "from keras.layers import Conv2D, MaxPooling2D, Dense, Dropout, Flatten,Activation,BatchNormalization\n",
        "from sklearn import preprocessing\n",
        "\n",
        "import matplotlib.pyplot as plt\n",
        "from tensorflow.keras.callbacks import EarlyStopping\n",
        "from keras import regularizers\n",
        "\n",
        "\n"
      ]
    },
    {
      "cell_type": "code",
      "source": [
        "from google.colab import drive"
      ],
      "metadata": {
        "id": "Mrho71ojnDkT"
      },
      "execution_count": 2,
      "outputs": []
    },
    {
      "cell_type": "code",
      "source": [
        "drive.mount('/content/drive')"
      ],
      "metadata": {
        "colab": {
          "base_uri": "https://localhost:8080/"
        },
        "id": "aqbu10x1nHeV",
        "outputId": "5a70fd45-37ff-4f5f-97f7-45371ee77284"
      },
      "execution_count": 3,
      "outputs": [
        {
          "output_type": "stream",
          "name": "stdout",
          "text": [
            "Drive already mounted at /content/drive; to attempt to forcibly remount, call drive.mount(\"/content/drive\", force_remount=True).\n"
          ]
        }
      ]
    },
    {
      "cell_type": "code",
      "source": [
        "dir=('/content/drive/MyDrive/dataseths/datasethappysad/train/')"
      ],
      "metadata": {
        "id": "MjeCEWCznJ2P"
      },
      "execution_count": 4,
      "outputs": []
    },
    {
      "cell_type": "code",
      "source": [
        "classes=[\"happy1\",\"sad1\"]"
      ],
      "metadata": {
        "id": "ThnRZiXWnMbh"
      },
      "execution_count": 5,
      "outputs": []
    },
    {
      "cell_type": "code",
      "source": [
        "training_data=[]\n",
        "img_size=224 \n",
        "def create_training_data():\n",
        "  for category in classes:\n",
        "    path=os.path.join(dir,category)\n",
        "    class_num=classes.index(category)\n",
        "    for img in os.listdir(path):\n",
        "      try:\n",
        "        img_array=cv2.imread(os.path.join(path,img))\n",
        "        new_array=cv2.resize(img_array,(img_size,img_size))\n",
        "        training_data.append([new_array, class_num])\n",
        "      except Exception as e:\n",
        "        pass "
      ],
      "metadata": {
        "id": "aTEDXLa4nQSb"
      },
      "execution_count": 6,
      "outputs": []
    },
    {
      "cell_type": "code",
      "source": [
        "create_training_data()"
      ],
      "metadata": {
        "id": "uW7OxcnSnUIz"
      },
      "execution_count": 7,
      "outputs": []
    },
    {
      "cell_type": "code",
      "source": [
        "print(len(training_data))"
      ],
      "metadata": {
        "colab": {
          "base_uri": "https://localhost:8080/"
        },
        "id": "WxitK7blD0lr",
        "outputId": "c2d3dbf1-0dae-497a-ab3d-9f6a136ef8d3"
      },
      "execution_count": 8,
      "outputs": [
        {
          "output_type": "stream",
          "name": "stdout",
          "text": [
            "3909\n"
          ]
        }
      ]
    },
    {
      "cell_type": "code",
      "source": [
        "import random\n",
        "random.shuffle(training_data)"
      ],
      "metadata": {
        "id": "1zmXRyEGne1f"
      },
      "execution_count": 9,
      "outputs": []
    },
    {
      "cell_type": "code",
      "source": [
        "x=[] #feature/data\n",
        "y=[] #label\n",
        "\n",
        "for features,label in training_data:\n",
        "  \n",
        "  x.append(features)\n",
        "  y.append(label)\n",
        "\n",
        "x=np.array(x).reshape(-1,img_size,img_size,3) ##converting it to 4 dimensions  \n",
        "y=np.array(y)"
      ],
      "metadata": {
        "id": "jxqbsz1FniIQ"
      },
      "execution_count": 10,
      "outputs": []
    },
    {
      "cell_type": "code",
      "source": [
        "x=x/255.0"
      ],
      "metadata": {
        "id": "ejupezRinliE"
      },
      "execution_count": 11,
      "outputs": []
    },
    {
      "cell_type": "code",
      "source": [
        "classes1=[\"H1\",\"S1\"]"
      ],
      "metadata": {
        "id": "qJnF2Hgwnv3w"
      },
      "execution_count": 12,
      "outputs": []
    },
    {
      "cell_type": "code",
      "source": [
        "dir1=('/content/drive/MyDrive/dataset/train/')"
      ],
      "metadata": {
        "id": "WhztLmlebHOQ"
      },
      "execution_count": 13,
      "outputs": []
    },
    {
      "cell_type": "code",
      "source": [
        "test_data=[]\n",
        "img_size=224 \n",
        "def create_test_data():\n",
        "  for category in classes1:\n",
        "    path=os.path.join(dir1,category)\n",
        "    class_num=classes1.index(category)\n",
        "    for img in os.listdir(path):\n",
        "      try:\n",
        "        img_array=cv2.imread(os.path.join(path,img))\n",
        "        new_array=cv2.resize(img_array,(img_size,img_size))\n",
        "        test_data.append([new_array, class_num])\n",
        "      except Exception as e:\n",
        "        pass "
      ],
      "metadata": {
        "id": "w6O0MOnbnylH"
      },
      "execution_count": 14,
      "outputs": []
    },
    {
      "cell_type": "code",
      "source": [
        "create_test_data()"
      ],
      "metadata": {
        "id": "Fo0TB3XYn04k"
      },
      "execution_count": 15,
      "outputs": []
    },
    {
      "cell_type": "code",
      "source": [
        "temp1=np.array(test_data)"
      ],
      "metadata": {
        "colab": {
          "base_uri": "https://localhost:8080/"
        },
        "id": "UcBNhom_n3p-",
        "outputId": "e85614fd-c6e9-4a93-ca4d-41fed87b672e"
      },
      "execution_count": 16,
      "outputs": [
        {
          "output_type": "stream",
          "name": "stderr",
          "text": [
            "<ipython-input-16-3bdf79796c9f>:1: VisibleDeprecationWarning: Creating an ndarray from ragged nested sequences (which is a list-or-tuple of lists-or-tuples-or ndarrays with different lengths or shapes) is deprecated. If you meant to do this, you must specify 'dtype=object' when creating the ndarray.\n",
            "  temp1=np.array(test_data)\n"
          ]
        }
      ]
    },
    {
      "cell_type": "code",
      "source": [
        "import random\n",
        "random.shuffle(test_data)"
      ],
      "metadata": {
        "id": "bHgUROAYn6kf"
      },
      "execution_count": 17,
      "outputs": []
    },
    {
      "cell_type": "code",
      "source": [
        "x1=[] #feature/data\n",
        "y1=[] #label\n",
        "\n",
        "for features,label in test_data:\n",
        "  \n",
        "  x1.append(features)\n",
        "  y1.append(label)\n",
        "\n",
        "a=np.array(x1)"
      ],
      "metadata": {
        "id": "8f9ipvT8n9Eg"
      },
      "execution_count": 18,
      "outputs": []
    },
    {
      "cell_type": "code",
      "source": [
        "a=a/255.0"
      ],
      "metadata": {
        "id": "Yjjx5KZFn_su"
      },
      "execution_count": 19,
      "outputs": []
    },
    {
      "cell_type": "code",
      "source": [
        "y1=np.array(y1)"
      ],
      "metadata": {
        "id": "YWjfQi0KoDDZ"
      },
      "execution_count": 20,
      "outputs": []
    },
    {
      "cell_type": "code",
      "execution_count": 21,
      "metadata": {
        "execution": {
          "iopub.execute_input": "2021-03-11T20:10:07.937232Z",
          "iopub.status.busy": "2021-03-11T20:10:07.936594Z",
          "iopub.status.idle": "2021-03-11T20:10:07.939493Z",
          "shell.execute_reply": "2021-03-11T20:10:07.939090Z"
        },
        "papermill": {
          "duration": 0.0253,
          "end_time": "2021-03-11T20:10:07.939597",
          "exception": false,
          "start_time": "2021-03-11T20:10:07.914297",
          "status": "completed"
        },
        "tags": [],
        "id": "hsqwQUBam6tA"
      },
      "outputs": [],
      "source": [
        "from tensorflow.keras.preprocessing.image import ImageDataGenerator\n",
        "train_datagen = ImageDataGenerator(\n",
        "    shear_range = 0.2,\n",
        "    zoom_range = 0.2,\n",
        "    rotation_range = 20,\n",
        "    horizontal_flip = True\n",
        ")\n",
        "\n",
        "valid_datagen = ImageDataGenerator()"
      ]
    },
    {
      "cell_type": "code",
      "execution_count": 22,
      "metadata": {
        "execution": {
          "iopub.execute_input": "2021-03-11T20:10:07.981225Z",
          "iopub.status.busy": "2021-03-11T20:10:07.980223Z",
          "iopub.status.idle": "2021-03-11T20:10:08.104617Z",
          "shell.execute_reply": "2021-03-11T20:10:08.104138Z"
        },
        "papermill": {
          "duration": 0.146695,
          "end_time": "2021-03-11T20:10:08.104751",
          "exception": false,
          "start_time": "2021-03-11T20:10:07.958056",
          "status": "completed"
        },
        "tags": [],
        "id": "Ib6sK0Pqm6tA"
      },
      "outputs": [],
      "source": [
        "batch_size=10\n",
        "\n",
        "# train_generator = train_datagen.flow(a, y1, batch_size=batch_size)\n",
        "# valid_generator = valid_datagen.flow(x, y, batch_size=batch_size)"
      ]
    },
    {
      "cell_type": "code",
      "execution_count": 23,
      "metadata": {
        "execution": {
          "iopub.execute_input": "2021-03-11T20:10:08.149181Z",
          "iopub.status.busy": "2021-03-11T20:10:08.148515Z",
          "iopub.status.idle": "2021-03-11T20:10:08.151494Z",
          "shell.execute_reply": "2021-03-11T20:10:08.151075Z"
        },
        "papermill": {
          "duration": 0.027672,
          "end_time": "2021-03-11T20:10:08.151607",
          "exception": false,
          "start_time": "2021-03-11T20:10:08.123935",
          "status": "completed"
        },
        "tags": [],
        "id": "4vdkofiKm6tA"
      },
      "outputs": [],
      "source": [
        "def build_network():\n",
        "    input_layer = Input(shape=(224, 224, 3))\n",
        "    x = Conv2D(filters=32,\n",
        "               kernel_size=(3, 3),\n",
        "               padding='same',\n",
        "               strides=(1, 1))(input_layer)\n",
        "    x = ReLU()(x)\n",
        "    x = Dropout(rate=0.5)(x)\n",
        "\n",
        "    x = Flatten()(x)\n",
        "    x = Dense(units=2)(x)  \n",
        "    output = Softmax()(x)\n",
        "\n",
        "    model = Model(inputs=input_layer, outputs=output)\n",
        "    return model\n"
      ]
    },
    {
      "cell_type": "code",
      "execution_count": 24,
      "metadata": {
        "execution": {
          "iopub.execute_input": "2021-03-11T20:10:08.192406Z",
          "iopub.status.busy": "2021-03-11T20:10:08.191868Z",
          "iopub.status.idle": "2021-03-11T20:10:10.933271Z",
          "shell.execute_reply": "2021-03-11T20:10:10.932416Z"
        },
        "papermill": {
          "duration": 2.763094,
          "end_time": "2021-03-11T20:10:10.933414",
          "exception": false,
          "start_time": "2021-03-11T20:10:08.170320",
          "status": "completed"
        },
        "tags": [],
        "id": "m9NeSAUrm6tB"
      },
      "outputs": [],
      "source": [
        "model = build_network()"
      ]
    },
    {
      "cell_type": "code",
      "execution_count": 25,
      "metadata": {
        "execution": {
          "iopub.execute_input": "2021-03-11T20:10:10.981942Z",
          "iopub.status.busy": "2021-03-11T20:10:10.980482Z",
          "iopub.status.idle": "2021-03-11T20:10:10.988715Z",
          "shell.execute_reply": "2021-03-11T20:10:10.988290Z"
        },
        "papermill": {
          "duration": 0.035698,
          "end_time": "2021-03-11T20:10:10.988835",
          "exception": false,
          "start_time": "2021-03-11T20:10:10.953137",
          "status": "completed"
        },
        "tags": [],
        "id": "whyny1Ykm6tB"
      },
      "outputs": [],
      "source": [
        "epochs = 50\n",
        "model.compile(loss=\"sparse_categorical_crossentropy\", optimizer='adam', metrics=['accuracy'])\n",
        "#CategoricalCrossentropy(from_logits=True)"
      ]
    },
    {
      "cell_type": "code",
      "execution_count": 26,
      "metadata": {
        "execution": {
          "iopub.execute_input": "2021-03-11T20:10:11.031246Z",
          "iopub.status.busy": "2021-03-11T20:10:11.030530Z",
          "iopub.status.idle": "2021-03-11T20:10:11.044672Z",
          "shell.execute_reply": "2021-03-11T20:10:11.045354Z"
        },
        "papermill": {
          "duration": 0.037555,
          "end_time": "2021-03-11T20:10:11.045535",
          "exception": false,
          "start_time": "2021-03-11T20:10:11.007980",
          "status": "completed"
        },
        "tags": [],
        "id": "QnAZ8uddm6tB"
      },
      "outputs": [],
      "source": [
        "# for iteration in train_generator:\n",
        "#     print(iteration)\n",
        "#     break"
      ]
    },
    {
      "cell_type": "code",
      "execution_count": 27,
      "metadata": {
        "execution": {
          "iopub.execute_input": "2021-03-11T20:10:11.091492Z",
          "iopub.status.busy": "2021-03-11T20:10:11.090775Z",
          "iopub.status.idle": "2021-03-11T20:10:11.093043Z",
          "shell.execute_reply": "2021-03-11T20:10:11.093526Z"
        },
        "papermill": {
          "duration": 0.026326,
          "end_time": "2021-03-11T20:10:11.093644",
          "exception": false,
          "start_time": "2021-03-11T20:10:11.067318",
          "status": "completed"
        },
        "tags": [],
        "id": "J6clg0Fam6tC"
      },
      "outputs": [],
      "source": [
        "early_stop = tf.keras.callbacks.EarlyStopping(monitor='val_accuracy', \n",
        "                                              min_delta=0, \n",
        "                                              patience=5, \n",
        "                                              verbose=0,\n",
        "                                              mode='auto', \n",
        "                                              baseline=None, \n",
        "                                              restore_best_weights=False\n",
        "                                             )"
      ]
    },
    {
      "cell_type": "code",
      "execution_count": 28,
      "metadata": {
        "execution": {
          "iopub.execute_input": "2021-03-11T20:10:11.138563Z",
          "iopub.status.busy": "2021-03-11T20:10:11.137811Z",
          "iopub.status.idle": "2021-03-11T20:13:55.365764Z",
          "shell.execute_reply": "2021-03-11T20:13:55.365288Z"
        },
        "papermill": {
          "duration": 224.252423,
          "end_time": "2021-03-11T20:13:55.365904",
          "exception": false,
          "start_time": "2021-03-11T20:10:11.113481",
          "status": "completed"
        },
        "tags": [],
        "id": "SO4eRQjXm6tC",
        "colab": {
          "base_uri": "https://localhost:8080/"
        },
        "outputId": "eb509110-87cc-4440-c74c-8488fc5cedc9"
      },
      "outputs": [
        {
          "output_type": "stream",
          "name": "stdout",
          "text": [
            "Epoch 1/50\n",
            "123/123 [==============================] - 15s 53ms/step - loss: 4.8466 - accuracy: 0.5426 - val_loss: 0.6586 - val_accuracy: 0.6380\n",
            "Epoch 2/50\n",
            "123/123 [==============================] - 6s 47ms/step - loss: 0.6752 - accuracy: 0.5718 - val_loss: 0.6700 - val_accuracy: 0.6068\n",
            "Epoch 3/50\n",
            "123/123 [==============================] - 6s 47ms/step - loss: 0.6550 - accuracy: 0.6058 - val_loss: 0.6618 - val_accuracy: 0.6042\n",
            "Epoch 4/50\n",
            "123/123 [==============================] - 6s 46ms/step - loss: 0.6386 - accuracy: 0.6201 - val_loss: 0.6179 - val_accuracy: 0.6823\n",
            "Epoch 5/50\n",
            "123/123 [==============================] - 6s 46ms/step - loss: 0.6165 - accuracy: 0.6506 - val_loss: 0.6011 - val_accuracy: 0.6719\n",
            "Epoch 6/50\n",
            "123/123 [==============================] - 6s 46ms/step - loss: 0.6018 - accuracy: 0.6733 - val_loss: 0.5642 - val_accuracy: 0.7266\n",
            "Epoch 7/50\n",
            "123/123 [==============================] - 6s 47ms/step - loss: 0.5510 - accuracy: 0.7035 - val_loss: 0.6075 - val_accuracy: 0.6641\n",
            "Epoch 8/50\n",
            "123/123 [==============================] - 6s 47ms/step - loss: 0.5199 - accuracy: 0.7360 - val_loss: 0.5040 - val_accuracy: 0.7578\n",
            "Epoch 9/50\n",
            "123/123 [==============================] - 6s 47ms/step - loss: 0.4921 - accuracy: 0.7526 - val_loss: 0.5380 - val_accuracy: 0.7318\n",
            "Epoch 10/50\n",
            "123/123 [==============================] - 6s 46ms/step - loss: 0.4650 - accuracy: 0.7708 - val_loss: 0.5546 - val_accuracy: 0.7500\n",
            "Epoch 11/50\n",
            "123/123 [==============================] - 6s 47ms/step - loss: 0.4194 - accuracy: 0.8020 - val_loss: 0.5829 - val_accuracy: 0.7292\n",
            "Epoch 12/50\n",
            "123/123 [==============================] - 6s 46ms/step - loss: 0.3975 - accuracy: 0.8122 - val_loss: 0.5131 - val_accuracy: 0.7682\n",
            "Epoch 13/50\n",
            "123/123 [==============================] - 6s 46ms/step - loss: 0.3888 - accuracy: 0.8243 - val_loss: 0.6002 - val_accuracy: 0.7318\n",
            "Epoch 14/50\n",
            "123/123 [==============================] - 6s 46ms/step - loss: 0.3550 - accuracy: 0.8439 - val_loss: 0.4846 - val_accuracy: 0.7969\n",
            "Epoch 15/50\n",
            "123/123 [==============================] - 6s 47ms/step - loss: 0.3320 - accuracy: 0.8555 - val_loss: 0.5639 - val_accuracy: 0.7839\n",
            "Epoch 16/50\n",
            "123/123 [==============================] - 6s 47ms/step - loss: 0.3097 - accuracy: 0.8629 - val_loss: 0.5800 - val_accuracy: 0.7604\n",
            "Epoch 17/50\n",
            "123/123 [==============================] - 6s 47ms/step - loss: 0.2953 - accuracy: 0.8780 - val_loss: 0.5705 - val_accuracy: 0.7786\n",
            "Epoch 18/50\n",
            "123/123 [==============================] - 6s 46ms/step - loss: 0.2645 - accuracy: 0.8915 - val_loss: 0.6814 - val_accuracy: 0.7448\n",
            "Epoch 19/50\n",
            "123/123 [==============================] - 6s 47ms/step - loss: 0.2524 - accuracy: 0.8928 - val_loss: 0.5698 - val_accuracy: 0.8151\n",
            "Epoch 20/50\n",
            "123/123 [==============================] - 6s 46ms/step - loss: 0.2497 - accuracy: 0.8972 - val_loss: 0.5069 - val_accuracy: 0.8281\n",
            "Epoch 21/50\n",
            "123/123 [==============================] - 6s 47ms/step - loss: 0.2196 - accuracy: 0.9138 - val_loss: 0.5491 - val_accuracy: 0.8359\n",
            "Epoch 22/50\n",
            "123/123 [==============================] - 6s 46ms/step - loss: 0.2070 - accuracy: 0.9204 - val_loss: 0.6405 - val_accuracy: 0.7839\n",
            "Epoch 23/50\n",
            "123/123 [==============================] - 6s 46ms/step - loss: 0.2097 - accuracy: 0.9179 - val_loss: 0.5222 - val_accuracy: 0.8438\n",
            "Epoch 24/50\n",
            "123/123 [==============================] - 6s 47ms/step - loss: 0.2157 - accuracy: 0.9166 - val_loss: 0.5785 - val_accuracy: 0.8464\n",
            "Epoch 25/50\n",
            "123/123 [==============================] - 6s 47ms/step - loss: 0.1773 - accuracy: 0.9360 - val_loss: 0.6452 - val_accuracy: 0.8385\n",
            "Epoch 26/50\n",
            "123/123 [==============================] - 6s 47ms/step - loss: 0.1647 - accuracy: 0.9422 - val_loss: 0.5409 - val_accuracy: 0.8464\n",
            "Epoch 27/50\n",
            "123/123 [==============================] - 6s 49ms/step - loss: 0.1644 - accuracy: 0.9432 - val_loss: 0.6603 - val_accuracy: 0.8281\n",
            "Epoch 28/50\n",
            "123/123 [==============================] - 6s 47ms/step - loss: 0.1538 - accuracy: 0.9470 - val_loss: 0.6453 - val_accuracy: 0.8385\n",
            "Epoch 29/50\n",
            "123/123 [==============================] - 6s 47ms/step - loss: 0.1509 - accuracy: 0.9440 - val_loss: 0.6767 - val_accuracy: 0.8333\n"
          ]
        }
      ],
      "source": [
        "epochs = 50\n",
        "history = model.fit(x, y, validation_data=(a, y1), epochs=epochs, callbacks=[early_stop])"
      ]
    },
    {
      "cell_type": "code",
      "execution_count": 29,
      "metadata": {
        "execution": {
          "iopub.execute_input": "2021-03-11T20:13:57.416756Z",
          "iopub.status.busy": "2021-03-11T20:13:57.415750Z",
          "iopub.status.idle": "2021-03-11T20:13:57.739111Z",
          "shell.execute_reply": "2021-03-11T20:13:57.739521Z"
        },
        "papermill": {
          "duration": 1.331751,
          "end_time": "2021-03-11T20:13:57.739668",
          "exception": false,
          "start_time": "2021-03-11T20:13:56.407917",
          "status": "completed"
        },
        "tags": [],
        "id": "WnBOfmUIm6tC",
        "colab": {
          "base_uri": "https://localhost:8080/",
          "height": 545
        },
        "outputId": "11f60a5c-73c2-4fbb-d588-4010ab22c6de"
      },
      "outputs": [
        {
          "output_type": "display_data",
          "data": {
            "text/plain": [
              "<Figure size 432x288 with 1 Axes>"
            ],
            "image/png": "[encoded data removed]"
          },
          "metadata": {
            "needs_background": "light"
          }
        },
        {
          "output_type": "display_data",
          "data": {
            "text/plain": [
              "<Figure size 432x288 with 1 Axes>"
            ],
            "image/png": "[encoded data removed]"
          },
          "metadata": {
            "needs_background": "light"
          }
        }
      ],
      "source": [
        "import matplotlib.pyplot as plt\n",
        "acc = history.history['accuracy']\n",
        "val_acc = history.history['val_accuracy']\n",
        "loss = history.history['loss']\n",
        "val_loss = history.history['val_loss']\n",
        "\n",
        "epochs = range(len(acc))\n",
        "\n",
        "plt.plot(epochs, acc, 'r', label='Training accuracy')\n",
        "plt.plot(epochs, val_acc, 'b', label='Validation accuracy')\n",
        "plt.title('Training and validation accuracy')\n",
        "plt.legend()\n",
        "plt.figure()\n",
        "\n",
        "plt.plot(epochs, loss, 'r', label='Training Loss')\n",
        "plt.plot(epochs, val_loss, 'b', label='Validation Loss')\n",
        "plt.title('Training and validation loss')\n",
        "plt.legend()\n",
        "\n",
        "plt.show()"
      ]
    },
    {
      "cell_type": "code",
      "source": [
        "score = model.evaluate(a, y1, verbose=0)\n",
        "print('Test accuracy:', score[1])"
      ],
      "metadata": {
        "id": "JG_QKU7cA37U",
        "colab": {
          "base_uri": "https://localhost:8080/"
        },
        "outputId": "696dfa4b-2612-4921-d842-026d6f08eab3"
      },
      "execution_count": 30,
      "outputs": [
        {
          "output_type": "stream",
          "name": "stdout",
          "text": [
            "Test accuracy: 0.8333333134651184\n"
          ]
        }
      ]
    },
    {
      "cell_type": "code",
      "source": [
        "score = model.evaluate(a, y1, verbose=0)\n",
        "print('Test loss:', score[0])"
      ],
      "metadata": {
        "colab": {
          "base_uri": "https://localhost:8080/"
        },
        "id": "2IQA5rv3yZf3",
        "outputId": "4f5bbfe7-4119-4dd3-fa1b-3dce0c2f721e"
      },
      "execution_count": 31,
      "outputs": [
        {
          "output_type": "stream",
          "name": "stdout",
          "text": [
            "Test loss: 0.676662266254425\n"
          ]
        }
      ]
    }
  ],
  "metadata": {
    "kernelspec": {
      "display_name": "Python 3",
      "language": "python",
      "name": "python3"
    },
    "language_info": {
      "codemirror_mode": {
        "name": "ipython",
        "version": 3
      },
      "file_extension": ".py",
      "mimetype": "text/x-python",
      "name": "python",
      "nbconvert_exporter": "python",
      "pygments_lexer": "ipython3",
      "version": "3.7.9"
    },
    "papermill": {
      "default_parameters": {},
      "duration": 293.898025,
      "end_time": "2021-03-11T20:14:13.963849",
      "environment_variables": {},
      "exception": null,
      "input_path": "__notebook__.ipynb",
      "output_path": "__notebook__.ipynb",
      "parameters": {},
      "start_time": "2021-03-11T20:09:20.065824",
      "version": "2.2.2"
    },
    "colab": {
      "provenance": []
    },
    "accelerator": "GPU",
    "gpuClass": "standard"
  },
  "nbformat": 4,
  "nbformat_minor": 0
}